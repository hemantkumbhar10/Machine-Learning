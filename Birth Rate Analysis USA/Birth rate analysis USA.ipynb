{
 "cells": [
  {
   "cell_type": "code",
   "execution_count": 1,
   "metadata": {},
   "outputs": [],
   "source": [
    "import numpy as np\n",
    "import pandas as pd\n",
    "import matplotlib.pyplot as plt"
   ]
  },
  {
   "cell_type": "code",
   "execution_count": 2,
   "metadata": {},
   "outputs": [
    {
     "data": {
      "text/html": [
       "<div>\n",
       "<style scoped>\n",
       "    .dataframe tbody tr th:only-of-type {\n",
       "        vertical-align: middle;\n",
       "    }\n",
       "\n",
       "    .dataframe tbody tr th {\n",
       "        vertical-align: top;\n",
       "    }\n",
       "\n",
       "    .dataframe thead th {\n",
       "        text-align: right;\n",
       "    }\n",
       "</style>\n",
       "<table border=\"1\" class=\"dataframe\">\n",
       "  <thead>\n",
       "    <tr style=\"text-align: right;\">\n",
       "      <th></th>\n",
       "      <th>year</th>\n",
       "      <th>month</th>\n",
       "      <th>day</th>\n",
       "      <th>gender</th>\n",
       "      <th>births</th>\n",
       "    </tr>\n",
       "  </thead>\n",
       "  <tbody>\n",
       "    <tr>\n",
       "      <th>0</th>\n",
       "      <td>1969</td>\n",
       "      <td>1</td>\n",
       "      <td>1.0</td>\n",
       "      <td>F</td>\n",
       "      <td>4046</td>\n",
       "    </tr>\n",
       "    <tr>\n",
       "      <th>1</th>\n",
       "      <td>1969</td>\n",
       "      <td>1</td>\n",
       "      <td>1.0</td>\n",
       "      <td>M</td>\n",
       "      <td>4440</td>\n",
       "    </tr>\n",
       "    <tr>\n",
       "      <th>2</th>\n",
       "      <td>1969</td>\n",
       "      <td>1</td>\n",
       "      <td>2.0</td>\n",
       "      <td>F</td>\n",
       "      <td>4454</td>\n",
       "    </tr>\n",
       "    <tr>\n",
       "      <th>3</th>\n",
       "      <td>1969</td>\n",
       "      <td>1</td>\n",
       "      <td>2.0</td>\n",
       "      <td>M</td>\n",
       "      <td>4548</td>\n",
       "    </tr>\n",
       "    <tr>\n",
       "      <th>4</th>\n",
       "      <td>1969</td>\n",
       "      <td>1</td>\n",
       "      <td>3.0</td>\n",
       "      <td>F</td>\n",
       "      <td>4548</td>\n",
       "    </tr>\n",
       "    <tr>\n",
       "      <th>...</th>\n",
       "      <td>...</td>\n",
       "      <td>...</td>\n",
       "      <td>...</td>\n",
       "      <td>...</td>\n",
       "      <td>...</td>\n",
       "    </tr>\n",
       "    <tr>\n",
       "      <th>3882</th>\n",
       "      <td>1974</td>\n",
       "      <td>1</td>\n",
       "      <td>28.0</td>\n",
       "      <td>M</td>\n",
       "      <td>4399</td>\n",
       "    </tr>\n",
       "    <tr>\n",
       "      <th>3883</th>\n",
       "      <td>1974</td>\n",
       "      <td>1</td>\n",
       "      <td>29.0</td>\n",
       "      <td>F</td>\n",
       "      <td>4349</td>\n",
       "    </tr>\n",
       "    <tr>\n",
       "      <th>3884</th>\n",
       "      <td>1974</td>\n",
       "      <td>1</td>\n",
       "      <td>29.0</td>\n",
       "      <td>M</td>\n",
       "      <td>4562</td>\n",
       "    </tr>\n",
       "    <tr>\n",
       "      <th>3885</th>\n",
       "      <td>1974</td>\n",
       "      <td>1</td>\n",
       "      <td>30.0</td>\n",
       "      <td>F</td>\n",
       "      <td>4072</td>\n",
       "    </tr>\n",
       "    <tr>\n",
       "      <th>3886</th>\n",
       "      <td>1974</td>\n",
       "      <td>1</td>\n",
       "      <td>30.0</td>\n",
       "      <td>M</td>\n",
       "      <td>4367</td>\n",
       "    </tr>\n",
       "  </tbody>\n",
       "</table>\n",
       "<p>3887 rows × 5 columns</p>\n",
       "</div>"
      ],
      "text/plain": [
       "      year  month   day gender  births\n",
       "0     1969      1   1.0      F    4046\n",
       "1     1969      1   1.0      M    4440\n",
       "2     1969      1   2.0      F    4454\n",
       "3     1969      1   2.0      M    4548\n",
       "4     1969      1   3.0      F    4548\n",
       "...    ...    ...   ...    ...     ...\n",
       "3882  1974      1  28.0      M    4399\n",
       "3883  1974      1  29.0      F    4349\n",
       "3884  1974      1  29.0      M    4562\n",
       "3885  1974      1  30.0      F    4072\n",
       "3886  1974      1  30.0      M    4367\n",
       "\n",
       "[3887 rows x 5 columns]"
      ]
     },
     "execution_count": 2,
     "metadata": {},
     "output_type": "execute_result"
    }
   ],
   "source": [
    "df = pd.read_csv('births.csv')\n",
    "df.head(3887)"
   ]
  },
  {
   "cell_type": "code",
   "execution_count": 3,
   "metadata": {},
   "outputs": [
    {
     "data": {
      "text/html": [
       "<div>\n",
       "<style scoped>\n",
       "    .dataframe tbody tr th:only-of-type {\n",
       "        vertical-align: middle;\n",
       "    }\n",
       "\n",
       "    .dataframe tbody tr th {\n",
       "        vertical-align: top;\n",
       "    }\n",
       "\n",
       "    .dataframe thead th {\n",
       "        text-align: right;\n",
       "    }\n",
       "</style>\n",
       "<table border=\"1\" class=\"dataframe\">\n",
       "  <thead>\n",
       "    <tr style=\"text-align: right;\">\n",
       "      <th></th>\n",
       "      <th>year</th>\n",
       "      <th>month</th>\n",
       "      <th>day</th>\n",
       "      <th>gender</th>\n",
       "      <th>births</th>\n",
       "    </tr>\n",
       "  </thead>\n",
       "  <tbody>\n",
       "    <tr>\n",
       "      <th>0</th>\n",
       "      <td>1969</td>\n",
       "      <td>1</td>\n",
       "      <td>1</td>\n",
       "      <td>F</td>\n",
       "      <td>4046</td>\n",
       "    </tr>\n",
       "    <tr>\n",
       "      <th>1</th>\n",
       "      <td>1969</td>\n",
       "      <td>1</td>\n",
       "      <td>1</td>\n",
       "      <td>M</td>\n",
       "      <td>4440</td>\n",
       "    </tr>\n",
       "    <tr>\n",
       "      <th>2</th>\n",
       "      <td>1969</td>\n",
       "      <td>1</td>\n",
       "      <td>2</td>\n",
       "      <td>F</td>\n",
       "      <td>4454</td>\n",
       "    </tr>\n",
       "    <tr>\n",
       "      <th>3</th>\n",
       "      <td>1969</td>\n",
       "      <td>1</td>\n",
       "      <td>2</td>\n",
       "      <td>M</td>\n",
       "      <td>4548</td>\n",
       "    </tr>\n",
       "    <tr>\n",
       "      <th>4</th>\n",
       "      <td>1969</td>\n",
       "      <td>1</td>\n",
       "      <td>3</td>\n",
       "      <td>F</td>\n",
       "      <td>4548</td>\n",
       "    </tr>\n",
       "    <tr>\n",
       "      <th>...</th>\n",
       "      <td>...</td>\n",
       "      <td>...</td>\n",
       "      <td>...</td>\n",
       "      <td>...</td>\n",
       "      <td>...</td>\n",
       "    </tr>\n",
       "    <tr>\n",
       "      <th>3858</th>\n",
       "      <td>1974</td>\n",
       "      <td>1</td>\n",
       "      <td>16</td>\n",
       "      <td>M</td>\n",
       "      <td>4586</td>\n",
       "    </tr>\n",
       "    <tr>\n",
       "      <th>3859</th>\n",
       "      <td>1974</td>\n",
       "      <td>1</td>\n",
       "      <td>17</td>\n",
       "      <td>F</td>\n",
       "      <td>4276</td>\n",
       "    </tr>\n",
       "    <tr>\n",
       "      <th>3860</th>\n",
       "      <td>1974</td>\n",
       "      <td>1</td>\n",
       "      <td>17</td>\n",
       "      <td>M</td>\n",
       "      <td>4328</td>\n",
       "    </tr>\n",
       "    <tr>\n",
       "      <th>3861</th>\n",
       "      <td>1974</td>\n",
       "      <td>1</td>\n",
       "      <td>18</td>\n",
       "      <td>F</td>\n",
       "      <td>4489</td>\n",
       "    </tr>\n",
       "    <tr>\n",
       "      <th>3862</th>\n",
       "      <td>1974</td>\n",
       "      <td>1</td>\n",
       "      <td>18</td>\n",
       "      <td>M</td>\n",
       "      <td>4482</td>\n",
       "    </tr>\n",
       "  </tbody>\n",
       "</table>\n",
       "<p>3863 rows × 5 columns</p>\n",
       "</div>"
      ],
      "text/plain": [
       "      year  month  day gender  births\n",
       "0     1969      1    1      F    4046\n",
       "1     1969      1    1      M    4440\n",
       "2     1969      1    2      F    4454\n",
       "3     1969      1    2      M    4548\n",
       "4     1969      1    3      F    4548\n",
       "...    ...    ...  ...    ...     ...\n",
       "3858  1974      1   16      M    4586\n",
       "3859  1974      1   17      F    4276\n",
       "3860  1974      1   17      M    4328\n",
       "3861  1974      1   18      F    4489\n",
       "3862  1974      1   18      M    4482\n",
       "\n",
       "[3863 rows x 5 columns]"
      ]
     },
     "execution_count": 3,
     "metadata": {},
     "output_type": "execute_result"
    }
   ],
   "source": [
    "df['day'].fillna(0, inplace = True) #fills with value 0 where theres na\n",
    "df['day'] = df['day'].astype(int) #converts the column from float to int\n",
    "df.head(3863)"
   ]
  },
  {
   "cell_type": "code",
   "execution_count": 4,
   "metadata": {},
   "outputs": [],
   "source": [
    "df['decade'] = 10 * (df['year']//10) #Converts the years to the their respective decade\n",
    "#i.e. if it devides the year 1969 by 10 then it converts it to its near full integer\n",
    "#with help of // function hence it becomes 1960."
   ]
  },
  {
   "cell_type": "code",
   "execution_count": 5,
   "metadata": {},
   "outputs": [
    {
     "data": {
      "text/html": [
       "<div>\n",
       "<style scoped>\n",
       "    .dataframe tbody tr th:only-of-type {\n",
       "        vertical-align: middle;\n",
       "    }\n",
       "\n",
       "    .dataframe tbody tr th {\n",
       "        vertical-align: top;\n",
       "    }\n",
       "\n",
       "    .dataframe thead th {\n",
       "        text-align: right;\n",
       "    }\n",
       "</style>\n",
       "<table border=\"1\" class=\"dataframe\">\n",
       "  <thead>\n",
       "    <tr style=\"text-align: right;\">\n",
       "      <th>gender</th>\n",
       "      <th>F</th>\n",
       "      <th>M</th>\n",
       "    </tr>\n",
       "    <tr>\n",
       "      <th>decade</th>\n",
       "      <th></th>\n",
       "      <th></th>\n",
       "    </tr>\n",
       "  </thead>\n",
       "  <tbody>\n",
       "    <tr>\n",
       "      <th>1960</th>\n",
       "      <td>1753634</td>\n",
       "      <td>1846572</td>\n",
       "    </tr>\n",
       "    <tr>\n",
       "      <th>1970</th>\n",
       "      <td>16263075</td>\n",
       "      <td>17121550</td>\n",
       "    </tr>\n",
       "    <tr>\n",
       "      <th>1980</th>\n",
       "      <td>18310351</td>\n",
       "      <td>19243452</td>\n",
       "    </tr>\n",
       "    <tr>\n",
       "      <th>1990</th>\n",
       "      <td>19479454</td>\n",
       "      <td>20420553</td>\n",
       "    </tr>\n",
       "    <tr>\n",
       "      <th>2000</th>\n",
       "      <td>18229309</td>\n",
       "      <td>19106428</td>\n",
       "    </tr>\n",
       "  </tbody>\n",
       "</table>\n",
       "</div>"
      ],
      "text/plain": [
       "gender         F         M\n",
       "decade                    \n",
       "1960     1753634   1846572\n",
       "1970    16263075  17121550\n",
       "1980    18310351  19243452\n",
       "1990    19479454  20420553\n",
       "2000    18229309  19106428"
      ]
     },
     "execution_count": 5,
     "metadata": {},
     "output_type": "execute_result"
    }
   ],
   "source": [
    "df.pivot_table('births' ,index = 'decade', columns = 'gender', aggfunc = 'sum')\n",
    "#creates dataframe table\n",
    "#We can specify which column we need \n",
    "#aggfunc mean aggregrate function which decides which function to use to get sum or mean of data in column"
   ]
  },
  {
   "cell_type": "code",
   "execution_count": 6,
   "metadata": {
    "scrolled": true
   },
   "outputs": [
    {
     "data": {
      "image/png": "[encoded data removed]",
      "text/plain": [
       "<Figure size 432x288 with 1 Axes>"
      ]
     },
     "metadata": {},
     "output_type": "display_data"
    }
   ],
   "source": [
    "import seaborn as sns\n",
    "sns.set()\n",
    "birth_decade = df.pivot_table('births', index = 'decade', columns = 'gender', aggfunc = 'sum')\n",
    "birth_decade.plot()\n",
    "plt.ylabel('TOTAL BIRTHS PER YEAR')\n",
    "plt.show()   #No of births by decade"
   ]
  },
  {
   "cell_type": "code",
   "execution_count": 7,
   "metadata": {},
   "outputs": [
    {
     "name": "stdout",
     "output_type": "stream",
     "text": [
      "[4358.  4814.  5289.5]\n"
     ]
    }
   ],
   "source": [
    "quartiles = np.quantile(df['births'], [0.25,0.50,0.75])\n",
    "print(quartiles)"
   ]
  },
  {
   "cell_type": "code",
   "execution_count": 8,
   "metadata": {},
   "outputs": [
    {
     "data": {
      "text/plain": [
       "<AxesSubplot:title={'center':'year'}, xlabel='gender'>"
      ]
     },
     "execution_count": 8,
     "metadata": {},
     "output_type": "execute_result"
    },
    {
     "data": {
      "image/png": "[encoded data removed]",
      "text/plain": [
       "<Figure size 432x288 with 1 Axes>"
      ]
     },
     "metadata": {},
     "output_type": "display_data"
    }
   ],
   "source": [
    "df.boxplot(by = 'gender', column = 'year', grid = True)"
   ]
  },
  {
   "cell_type": "code",
   "execution_count": 9,
   "metadata": {},
   "outputs": [
    {
     "name": "stdout",
     "output_type": "stream",
     "text": [
      "       year  month  day gender  births  decade\n",
      "12184  1985      1   99      F       1    1980\n",
      "14944  1988     10   99      M       1    1980\n",
      "9500   1981      6   99      F       1    1980\n",
      "9439   1981      5   99      F       1    1980\n",
      "12613  1985      8   99      F       1    1980\n",
      "...     ...    ...  ...    ...     ...     ...\n",
      "15492  2006      9    0      M  191866    2000\n",
      "15536  2008      7    0      M  192714    2000\n",
      "15512  2007      7    0      M  195135    2000\n",
      "15490  2006      8    0      M  198942    2000\n",
      "15514  2007      8    0      M  199622    2000\n",
      "\n",
      "[15547 rows x 6 columns]\n"
     ]
    }
   ],
   "source": [
    "dt = df.sort_values('births', axis = 0, ascending = True, inplace = True, na_position = 'last')\n",
    "print(df)"
   ]
  },
  {
   "cell_type": "code",
   "execution_count": 10,
   "metadata": {},
   "outputs": [
    {
     "name": "stdout",
     "output_type": "stream",
     "text": [
      "4814.0\n"
     ]
    }
   ],
   "source": [
    "mu = quartiles[1]\n",
    "print(mu)"
   ]
  },
  {
   "cell_type": "code",
   "execution_count": 11,
   "metadata": {},
   "outputs": [
    {
     "name": "stdout",
     "output_type": "stream",
     "text": [
      "689.31\n"
     ]
    }
   ],
   "source": [
    "sig = 0.74 * (quartiles[2] - quartiles[0])\n",
    "print(sig)"
   ]
  },
  {
   "cell_type": "code",
   "execution_count": 12,
   "metadata": {},
   "outputs": [
    {
     "name": "stdout",
     "output_type": "stream",
     "text": [
      "       year  month  day gender  births  decade\n",
      "3309   1973      4   29      F    3249    1970\n",
      "5624   1976      5    9      F    3273    1970\n",
      "3827   1974      1    1      F    3311    1970\n",
      "5652   1976      5   23      F    3316    1970\n",
      "5593   1976      4   25      F    3320    1970\n",
      "...     ...    ...  ...    ...     ...     ...\n",
      "14839  1988      9    9      M    6474    1980\n",
      "1323   1970      9   22      M    6480    1970\n",
      "14867  1988      9   23      M    6482    1980\n",
      "14861  1988      9   20      M    6519    1980\n",
      "14711  1988      7    7      M    6527    1980\n",
      "\n",
      "[14610 rows x 6 columns]\n"
     ]
    }
   ],
   "source": [
    "births = df.query('(births > @mu - 5 * @sig) & (births < @mu + 5 * @sig)')\n",
    "print(births)"
   ]
  },
  {
   "cell_type": "code",
   "execution_count": 21,
   "metadata": {},
   "outputs": [
    {
     "name": "stderr",
     "output_type": "stream",
     "text": [
      "<ipython-input-21-e7c54263bbbf>:1: SettingWithCopyWarning: \n",
      "A value is trying to be set on a copy of a slice from a DataFrame.\n",
      "Try using .loc[row_indexer,col_indexer] = value instead\n",
      "\n",
      "See the caveats in the documentation: https://pandas.pydata.org/pandas-docs/stable/user_guide/indexing.html#returning-a-view-versus-a-copy\n",
      "  births['day'] = births['day'].astype(int)\n",
      "<ipython-input-21-e7c54263bbbf>:5: SettingWithCopyWarning: \n",
      "A value is trying to be set on a copy of a slice from a DataFrame.\n",
      "Try using .loc[row_indexer,col_indexer] = value instead\n",
      "\n",
      "See the caveats in the documentation: https://pandas.pydata.org/pandas-docs/stable/user_guide/indexing.html#returning-a-view-versus-a-copy\n",
      "  births['dayofweek'] = births.index.dayofweek\n"
     ]
    },
    {
     "data": {
      "text/plain": [
       "1973-04-29    6\n",
       "1976-05-09    6\n",
       "1974-01-01    1\n",
       "1976-05-23    6\n",
       "1976-04-25    6\n",
       "1973-04-22    6\n",
       "1974-05-05    6\n",
       "1974-05-19    6\n",
       "1976-05-02    6\n",
       "1973-05-06    6\n",
       "1974-12-25    2\n",
       "1973-12-23    6\n",
       "1974-04-07    6\n",
       "1976-05-09    6\n",
       "1975-03-30    6\n",
       "1972-12-24    6\n",
       "1975-12-25    3\n",
       "1974-06-02    6\n",
       "1974-04-28    6\n",
       "1974-05-12    6\n",
       "1978-04-23    6\n",
       "1974-06-09    6\n",
       "1974-12-25    2\n",
       "1973-05-13    6\n",
       "1975-04-20    6\n",
       "1976-04-18    6\n",
       "1974-06-23    6\n",
       "1975-04-13    6\n",
       "1974-02-10    6\n",
       "1975-06-29    6\n",
       "1976-04-11    6\n",
       "1973-11-22    3\n",
       "1974-06-16    6\n",
       "1974-05-26    6\n",
       "1976-02-15    6\n",
       "1973-10-21    6\n",
       "1975-05-18    6\n",
       "1975-04-06    6\n",
       "1973-04-15    6\n",
       "1975-01-01    2\n",
       "1975-06-01    6\n",
       "1975-05-11    6\n",
       "1973-12-25    1\n",
       "1974-05-26    6\n",
       "1974-01-06    6\n",
       "1978-04-30    6\n",
       "1973-06-03    6\n",
       "1974-03-24    6\n",
       "1975-11-02    6\n",
       "1974-04-14    6\n",
       "Name: dayofweek, dtype: int64"
      ]
     },
     "execution_count": 21,
     "metadata": {},
     "output_type": "execute_result"
    }
   ],
   "source": [
    "births['day'] = births['day'].astype(int)\n",
    "births.index = pd.to_datetime(10000 * births.year + \n",
    "                             100 * births.month + \n",
    "                             births.day, format = '%Y%m%d')\n",
    "births['dayofweek'] = births.index.dayofweek\n",
    "births['dayofweek'].head(50)"
   ]
  },
  {
   "cell_type": "code",
   "execution_count": 17,
   "metadata": {},
   "outputs": [
    {
     "name": "stderr",
     "output_type": "stream",
     "text": [
      "<ipython-input-17-bfba7eba7e43>:3: UserWarning: FixedFormatter should only be used together with FixedLocator\n",
      "  plt.gca().set_xticklabels(['Mon', 'Tues', 'Wed', 'Thurs', 'Fri', 'Sat', 'Sun'])\n"
     ]
    },
    {
     "data": {
      "image/png": "[encoded data removed]",
      "text/plain": [
       "<Figure size 432x288 with 1 Axes>"
      ]
     },
     "metadata": {},
     "output_type": "display_data"
    }
   ],
   "source": [
    "births.pivot_table('births', index = 'dayofweek', \n",
    "                  columns = 'decade',aggfunc = 'mean').plot()\n",
    "plt.gca().set_xticklabels(['Mon', 'Tues', 'Wed', 'Thurs', 'Fri', 'Sat', 'Sun'])\n",
    "plt.ylabel('mean births by day')\n",
    "plt.show()"
   ]
  },
  {
   "cell_type": "code",
   "execution_count": 37,
   "metadata": {},
   "outputs": [
    {
     "name": "stdout",
     "output_type": "stream",
     "text": [
      "       births\n",
      "1 1  4009.225\n",
      "  2  4247.400\n",
      "  3  4500.900\n",
      "  4  4571.350\n",
      "  5  4603.625\n"
     ]
    }
   ],
   "source": [
    "births_month = births.pivot_table('births', [births.index.month, births.index.day])\n",
    "print(births_month.head())"
   ]
  },
  {
   "cell_type": "code",
   "execution_count": 38,
   "metadata": {},
   "outputs": [
    {
     "name": "stdout",
     "output_type": "stream",
     "text": [
      "              births\n",
      "2012-01-01  4009.225\n",
      "2012-01-02  4247.400\n",
      "2012-01-03  4500.900\n",
      "2012-01-04  4571.350\n",
      "2012-01-05  4603.625\n"
     ]
    },
    {
     "name": "stderr",
     "output_type": "stream",
     "text": [
      "<ipython-input-38-60980f1586b4>:1: FutureWarning: The pandas.datetime class is deprecated and will be removed from pandas in a future version. Import from datetime module instead.\n",
      "  births_month.index = [pd.datetime(2012, month, day)\n"
     ]
    }
   ],
   "source": [
    "births_month.index = [pd.datetime(2012, month, day)\n",
    "                     for (month, day) in births_month.index]\n",
    "print(births_month.head())"
   ]
  },
  {
   "cell_type": "code",
   "execution_count": 39,
   "metadata": {},
   "outputs": [
    {
     "data": {
      "image/png": "[encoded data removed]",
      "text/plain": [
       "<Figure size 864x288 with 1 Axes>"
      ]
     },
     "metadata": {},
     "output_type": "display_data"
    }
   ],
   "source": [
    "fig, ax = plt.subplots(figsize = (12,4))\n",
    "births_month.plot(ax = ax)\n",
    "plt.show()"
   ]
  }
 ],
 "metadata": {
  "kernelspec": {
   "display_name": "Python 3",
   "language": "python",
   "name": "python3"
  },
  "language_info": {
   "codemirror_mode": {
    "name": "ipython",
    "version": 3
   },
   "file_extension": ".py",
   "mimetype": "text/x-python",
   "name": "python",
   "nbconvert_exporter": "python",
   "pygments_lexer": "ipython3",
   "version": "3.8.5"
  }
 },
 "nbformat": 4,
 "nbformat_minor": 4
}
